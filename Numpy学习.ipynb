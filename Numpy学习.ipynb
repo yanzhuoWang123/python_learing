{
 "cells": [
  {
   "cell_type": "code",
   "execution_count": 1,
   "id": "7f4058cb",
   "metadata": {},
   "outputs": [],
   "source": [
    "import numpy as np\n",
    "import pandas as pd\n",
    "import matplotlib.pyplot as pit"
   ]
  },
  {
   "cell_type": "code",
   "execution_count": 2,
   "id": "e39936c3",
   "metadata": {},
   "outputs": [
    {
     "data": {
      "text/plain": [
       "array([[1, 0, 0, 0, 0, 0],\n",
       "       [0, 1, 0, 0, 0, 0],\n",
       "       [0, 0, 1, 0, 0, 0],\n",
       "       [0, 0, 0, 1, 0, 0],\n",
       "       [0, 0, 0, 0, 1, 0],\n",
       "       [0, 0, 0, 0, 0, 1]])"
      ]
     },
     "execution_count": 2,
     "metadata": {},
     "output_type": "execute_result"
    }
   ],
   "source": [
    "n = np.eye(6, 6, dtype=int)\n",
    "n"
   ]
  },
  {
   "cell_type": "code",
   "execution_count": 3,
   "id": "68a8a80e",
   "metadata": {},
   "outputs": [
    {
     "data": {
      "text/plain": [
       "array([1, 2, 3, 4, 5, 6, 7, 8, 9])"
      ]
     },
     "execution_count": 3,
     "metadata": {},
     "output_type": "execute_result"
    }
   ],
   "source": [
    "n = np.array([1,2,3,4,5,6,7,8,9])\n",
    "n"
   ]
  },
  {
   "cell_type": "code",
   "execution_count": 8,
   "id": "c8ac7d43",
   "metadata": {},
   "outputs": [
    {
     "data": {
      "text/plain": [
       "2"
      ]
     },
     "execution_count": 8,
     "metadata": {},
     "output_type": "execute_result"
    }
   ],
   "source": [
    "n = np.random.randint(3)\n",
    "n"
   ]
  },
  {
   "cell_type": "code",
   "execution_count": 13,
   "id": "3779eb4f",
   "metadata": {},
   "outputs": [
    {
     "data": {
      "text/plain": [
       "array([[[8, 7, 1],\n",
       "        [3, 7, 7],\n",
       "        [3, 5, 8]],\n",
       "\n",
       "       [[1, 4, 8],\n",
       "        [6, 9, 4],\n",
       "        [7, 6, 8]]])"
      ]
     },
     "execution_count": 13,
     "metadata": {},
     "output_type": "execute_result"
    }
   ],
   "source": [
    "n = np.random.randint(1,10,(2,3,3))\n",
    "n"
   ]
  },
  {
   "cell_type": "code",
   "execution_count": 22,
   "id": "dfba6e8f",
   "metadata": {},
   "outputs": [
    {
     "data": {
      "text/plain": [
       "array([[[ 0.66924469,  0.81517607, -0.42408143],\n",
       "        [ 1.63414687, -0.45304388,  0.99796686]]])"
      ]
     },
     "execution_count": 22,
     "metadata": {},
     "output_type": "execute_result"
    }
   ],
   "source": [
    "n = np.random.randn(1,2,3)\n",
    "n"
   ]
  },
  {
   "cell_type": "code",
   "execution_count": 25,
   "id": "7ce469aa",
   "metadata": {},
   "outputs": [
    {
     "data": {
      "text/plain": [
       "array([[-0.17939877,  2.74328966,  3.4446438 ],\n",
       "       [ 0.69827319, -1.95111014, -0.01892457]])"
      ]
     },
     "execution_count": 25,
     "metadata": {},
     "output_type": "execute_result"
    }
   ],
   "source": [
    "n = np.random.normal(loc = 1,scale = 2,size = (2,3))\n",
    "n"
   ]
  },
  {
   "cell_type": "code",
   "execution_count": 28,
   "id": "9509f66d",
   "metadata": {},
   "outputs": [
    {
     "data": {
      "text/plain": [
       "0.48217087554532545"
      ]
     },
     "execution_count": 28,
     "metadata": {},
     "output_type": "execute_result"
    }
   ],
   "source": [
    "n = np.random.random()\n",
    "n"
   ]
  },
  {
   "cell_type": "code",
   "execution_count": 34,
   "id": "88dd95e5",
   "metadata": {},
   "outputs": [
    {
     "data": {
      "text/plain": [
       "array([[0.99006492, 0.40388381, 0.83545048, 0.62430971],\n",
       "       [0.39560152, 0.20623973, 0.03277905, 0.98631369],\n",
       "       [0.06273663, 0.14136887, 0.45215112, 0.2230489 ]])"
      ]
     },
     "execution_count": 34,
     "metadata": {},
     "output_type": "execute_result"
    }
   ],
   "source": [
    "m = np.random.random(size = (3,4))\n",
    "m"
   ]
  },
  {
   "cell_type": "code",
   "execution_count": 36,
   "id": "4f8c39b5",
   "metadata": {},
   "outputs": [
    {
     "data": {
      "text/plain": [
       "array([[0.39043935, 0.86481319, 0.49521825, 0.22536483, 0.12666   ],\n",
       "       [0.06022617, 0.36102062, 0.97021275, 0.28528951, 0.40121994],\n",
       "       [0.75789383, 0.19092191, 0.71775166, 0.81024561, 0.46210704],\n",
       "       [0.85312586, 0.48807828, 0.57177332, 0.52848237, 0.20200654]])"
      ]
     },
     "execution_count": 36,
     "metadata": {},
     "output_type": "execute_result"
    }
   ],
   "source": [
    "n = np.random.rand(4,5)\n",
    "n"
   ]
  },
  {
   "cell_type": "code",
   "execution_count": 37,
   "id": "18ec288b",
   "metadata": {},
   "outputs": [
    {
     "data": {
      "text/plain": [
       "array([[[255,  93,  93],\n",
       "        [199,  58,  19],\n",
       "        [150,  70, 152],\n",
       "        ...,\n",
       "        [211, 114, 130],\n",
       "        [160,  75,  90],\n",
       "        [102, 113, 187]],\n",
       "\n",
       "       [[236,  32, 125],\n",
       "        [ 87,  51,  55],\n",
       "        [171, 207, 143],\n",
       "        ...,\n",
       "        [165, 222, 166],\n",
       "        [109, 204, 223],\n",
       "        [  3, 235,  59]],\n",
       "\n",
       "       [[249, 141, 145],\n",
       "        [116,  31,  13],\n",
       "        [168, 243, 245],\n",
       "        ...,\n",
       "        [165, 208,  97],\n",
       "        [145, 205, 213],\n",
       "        [120, 218, 138]],\n",
       "\n",
       "       ...,\n",
       "\n",
       "       [[ 66, 177,  85],\n",
       "        [207, 175, 167],\n",
       "        [ 87,  75,  25],\n",
       "        ...,\n",
       "        [110, 116, 107],\n",
       "        [153, 253, 111],\n",
       "        [ 88,   6,  25]],\n",
       "\n",
       "       [[250,  47, 207],\n",
       "        [ 48, 214, 174],\n",
       "        [182,  40, 206],\n",
       "        ...,\n",
       "        [201, 232, 235],\n",
       "        [ 15, 223,  66],\n",
       "        [ 13, 138, 154]],\n",
       "\n",
       "       [[  9,  77,  39],\n",
       "        [169, 223,  32],\n",
       "        [ 42, 110, 186],\n",
       "        ...,\n",
       "        [125, 161,  49],\n",
       "        [ 73, 117, 208],\n",
       "        [108, 208, 215]]])"
      ]
     },
     "execution_count": 37,
     "metadata": {},
     "output_type": "execute_result"
    }
   ],
   "source": [
    "n = np.random.randint(0, 256, size=(20,40,3))\n",
    "n"
   ]
  },
  {
   "cell_type": "code",
   "execution_count": 40,
   "id": "5ef78a94",
   "metadata": {},
   "outputs": [
    {
     "data": {
      "text/plain": [
       "array([[1, 2, 4, 5, 1],\n",
       "       [3, 5, 8, 2, 3],\n",
       "       [9, 8, 6, 1, 4],\n",
       "       [3, 9, 5, 1, 6]])"
      ]
     },
     "execution_count": 40,
     "metadata": {},
     "output_type": "execute_result"
    }
   ],
   "source": [
    "n = np.random.randint(1,10,size = (4,5))\n",
    "n"
   ]
  },
  {
   "cell_type": "code",
   "execution_count": 42,
   "id": "aa883c2f",
   "metadata": {},
   "outputs": [
    {
     "data": {
      "text/plain": [
       "array([[1, 2, 4, 5, 1],\n",
       "       [3, 5, 8, 2, 3],\n",
       "       [9, 8, 6, 1, 4],\n",
       "       [3, 9, 5, 1, 6]])"
      ]
     },
     "execution_count": 42,
     "metadata": {},
     "output_type": "execute_result"
    }
   ],
   "source": [
    "a = np.array(n)\n",
    "a"
   ]
  },
  {
   "cell_type": "code",
   "execution_count": 46,
   "id": "7d7920f2",
   "metadata": {},
   "outputs": [
    {
     "data": {
      "text/plain": [
       "1"
      ]
     },
     "execution_count": 46,
     "metadata": {},
     "output_type": "execute_result"
    }
   ],
   "source": [
    "a[2][3]"
   ]
  },
  {
   "cell_type": "code",
   "execution_count": 52,
   "id": "23fb275b",
   "metadata": {},
   "outputs": [
    {
     "data": {
      "text/plain": [
       "array([[0, 0, 0, 0, 0],\n",
       "       [0, 0, 0, 0, 0],\n",
       "       [0, 0, 0, 0, 0],\n",
       "       [0, 0, 0, 0, 0],\n",
       "       [0, 0, 0, 0, 0]])"
      ]
     },
     "execution_count": 52,
     "metadata": {},
     "output_type": "execute_result"
    }
   ],
   "source": [
    "n = np.zeros((5,5),dtype=int)\n",
    "n"
   ]
  },
  {
   "cell_type": "code",
   "execution_count": 56,
   "id": "57736c96",
   "metadata": {},
   "outputs": [
    {
     "data": {
      "text/plain": [
       "array([[2, 2, 2, 2, 2],\n",
       "       [0, 0, 0, 0, 0],\n",
       "       [0, 0, 0, 0, 0],\n",
       "       [2, 2, 2, 2, 2],\n",
       "       [2, 2, 2, 2, 2]])"
      ]
     },
     "execution_count": 56,
     "metadata": {},
     "output_type": "execute_result"
    }
   ],
   "source": [
    "n[[0,3,-1]] = 2\n",
    "n"
   ]
  },
  {
   "cell_type": "code",
   "execution_count": 58,
   "id": "87bc478a",
   "metadata": {},
   "outputs": [
    {
     "data": {
      "text/plain": [
       "array([[12, 68, 28, 29, 80, 39],\n",
       "       [ 4, 17, 72, 82, 49, 78],\n",
       "       [74, 10, 51, 45, 11, 25],\n",
       "       [80, 82, 27, 47, 35, 60],\n",
       "       [18, 49, 84, 31, 68, 92]])"
      ]
     },
     "execution_count": 58,
     "metadata": {},
     "output_type": "execute_result"
    }
   ],
   "source": [
    "n = np.random.randint(0,100,size = (5,6))\n",
    "n"
   ]
  },
  {
   "cell_type": "code",
   "execution_count": 60,
   "id": "9761a780",
   "metadata": {},
   "outputs": [
    {
     "data": {
      "text/plain": [
       "array([[18, 49, 84, 31, 68, 92],\n",
       "       [80, 82, 27, 47, 35, 60],\n",
       "       [74, 10, 51, 45, 11, 25],\n",
       "       [ 4, 17, 72, 82, 49, 78],\n",
       "       [12, 68, 28, 29, 80, 39]])"
      ]
     },
     "execution_count": 60,
     "metadata": {},
     "output_type": "execute_result"
    }
   ],
   "source": [
    "n[::-1]"
   ]
  },
  {
   "cell_type": "code",
   "execution_count": 63,
   "id": "7918d8dc",
   "metadata": {},
   "outputs": [
    {
     "data": {
      "text/plain": [
       "array([[39, 80, 29, 28, 68, 12],\n",
       "       [78, 49, 82, 72, 17,  4],\n",
       "       [25, 11, 45, 51, 10, 74],\n",
       "       [60, 35, 47, 27, 82, 80],\n",
       "       [92, 68, 31, 84, 49, 18]])"
      ]
     },
     "execution_count": 63,
     "metadata": {},
     "output_type": "execute_result"
    }
   ],
   "source": [
    "n[:,::-1]"
   ]
  },
  {
   "cell_type": "code",
   "execution_count": 64,
   "id": "7d52fe28",
   "metadata": {},
   "outputs": [
    {
     "data": {
      "text/plain": [
       "array([[92, 68, 31, 84, 49, 18],\n",
       "       [60, 35, 47, 27, 82, 80],\n",
       "       [25, 11, 45, 51, 10, 74],\n",
       "       [78, 49, 82, 72, 17,  4],\n",
       "       [39, 80, 29, 28, 68, 12]])"
      ]
     },
     "execution_count": 64,
     "metadata": {},
     "output_type": "execute_result"
    }
   ],
   "source": [
    "n[::-1,::-1]"
   ]
  },
  {
   "cell_type": "code",
   "execution_count": 7,
   "id": "08299c8b",
   "metadata": {},
   "outputs": [
    {
     "data": {
      "text/plain": [
       "array([[45, 90, 46, 61],\n",
       "       [ 9, 39, 95, 84],\n",
       "       [81, 39, 50, 73]])"
      ]
     },
     "execution_count": 7,
     "metadata": {},
     "output_type": "execute_result"
    }
   ],
   "source": [
    "n = np.random.randint(0,100,size=(3,4))\n",
    "n"
   ]
  },
  {
   "cell_type": "code",
   "execution_count": 9,
   "id": "66ac41b7",
   "metadata": {},
   "outputs": [
    {
     "data": {
      "text/plain": [
       "array([[45,  9, 81],\n",
       "       [90, 39, 39],\n",
       "       [46, 95, 50],\n",
       "       [61, 84, 73]])"
      ]
     },
     "execution_count": 9,
     "metadata": {},
     "output_type": "execute_result"
    }
   ],
   "source": [
    "n.T"
   ]
  },
  {
   "cell_type": "code",
   "execution_count": 14,
   "id": "97b2fb50",
   "metadata": {},
   "outputs": [
    {
     "data": {
      "text/plain": [
       "array([[[75, 55, 13, 75, 96],\n",
       "        [ 6, 51, 82, 66, 37],\n",
       "        [86, 14, 82, 59, 73],\n",
       "        [28, 85, 54, 37, 52]],\n",
       "\n",
       "       [[17, 75, 76, 32, 82],\n",
       "        [58, 50,  6, 24, 79],\n",
       "        [19, 78,  7, 82, 56],\n",
       "        [51, 19, 83, 28, 37]],\n",
       "\n",
       "       [[26, 89, 22, 42, 85],\n",
       "        [18, 87, 62, 29, 97],\n",
       "        [79, 81, 79, 33, 77],\n",
       "        [19, 90,  4, 32, 47]]])"
      ]
     },
     "execution_count": 14,
     "metadata": {},
     "output_type": "execute_result"
    }
   ],
   "source": [
    "n = np.random.randint(0,100,size=(3,4,5))\n",
    "n"
   ]
  },
  {
   "cell_type": "code",
   "execution_count": 19,
   "id": "72b196d4",
   "metadata": {},
   "outputs": [
    {
     "data": {
      "text/plain": [
       "array([[[75,  6, 86, 28],\n",
       "        [17, 58, 19, 51],\n",
       "        [26, 18, 79, 19]],\n",
       "\n",
       "       [[55, 51, 14, 85],\n",
       "        [75, 50, 78, 19],\n",
       "        [89, 87, 81, 90]],\n",
       "\n",
       "       [[13, 82, 82, 54],\n",
       "        [76,  6,  7, 83],\n",
       "        [22, 62, 79,  4]],\n",
       "\n",
       "       [[75, 66, 59, 37],\n",
       "        [32, 24, 82, 28],\n",
       "        [42, 29, 33, 32]],\n",
       "\n",
       "       [[96, 37, 73, 52],\n",
       "        [82, 79, 56, 37],\n",
       "        [85, 97, 77, 47]]])"
      ]
     },
     "execution_count": 19,
     "metadata": {},
     "output_type": "execute_result"
    }
   ],
   "source": [
    "np.transpose(n,axes=(2,0,1))"
   ]
  },
  {
   "cell_type": "code",
   "execution_count": 22,
   "id": "1661ab62",
   "metadata": {},
   "outputs": [
    {
     "data": {
      "text/plain": [
       "array([[36, 85, 94, 97, 73],\n",
       "       [60, 40, 79, 19, 52],\n",
       "       [69, 26, 60, 92, 78],\n",
       "       [35, 94,  1, 57, 62]])"
      ]
     },
     "execution_count": 22,
     "metadata": {},
     "output_type": "execute_result"
    }
   ],
   "source": [
    "n = np.random.randint(0,100,size=(4,5))\n",
    "n"
   ]
  },
  {
   "cell_type": "code",
   "execution_count": 24,
   "id": "974e442f",
   "metadata": {},
   "outputs": [
    {
     "data": {
      "text/plain": [
       "array([200, 245, 234, 265, 265])"
      ]
     },
     "execution_count": 24,
     "metadata": {},
     "output_type": "execute_result"
    }
   ],
   "source": [
    "np.sum(n,axis=0)"
   ]
  },
  {
   "cell_type": "code",
   "execution_count": 25,
   "id": "18b9bdd9",
   "metadata": {},
   "outputs": [
    {
     "data": {
      "text/plain": [
       "array([385, 250, 325, 249])"
      ]
     },
     "execution_count": 25,
     "metadata": {},
     "output_type": "execute_result"
    }
   ],
   "source": [
    "np.sum(n,axis=1)"
   ]
  },
  {
   "cell_type": "code",
   "execution_count": 26,
   "id": "5c5f83eb",
   "metadata": {},
   "outputs": [
    {
     "data": {
      "text/plain": [
       "97"
      ]
     },
     "execution_count": 26,
     "metadata": {},
     "output_type": "execute_result"
    }
   ],
   "source": [
    "np.max(n)"
   ]
  },
  {
   "cell_type": "code",
   "execution_count": 27,
   "id": "ab191dc9",
   "metadata": {},
   "outputs": [
    {
     "data": {
      "text/plain": [
       "1"
      ]
     },
     "execution_count": 27,
     "metadata": {},
     "output_type": "execute_result"
    }
   ],
   "source": [
    "np.min(n)"
   ]
  },
  {
   "cell_type": "code",
   "execution_count": 28,
   "id": "2d381823",
   "metadata": {},
   "outputs": [
    {
     "data": {
      "text/plain": [
       "60.45"
      ]
     },
     "execution_count": 28,
     "metadata": {},
     "output_type": "execute_result"
    }
   ],
   "source": [
    "np.mean(n)"
   ]
  },
  {
   "cell_type": "code",
   "execution_count": 29,
   "id": "f5b2e68a",
   "metadata": {},
   "outputs": [
    {
     "data": {
      "text/plain": [
       "60.45"
      ]
     },
     "execution_count": 29,
     "metadata": {},
     "output_type": "execute_result"
    }
   ],
   "source": [
    "np.average(n)"
   ]
  },
  {
   "cell_type": "code",
   "execution_count": 30,
   "id": "2118ea51",
   "metadata": {},
   "outputs": [
    {
     "data": {
      "text/plain": [
       "61.0"
      ]
     },
     "execution_count": 30,
     "metadata": {},
     "output_type": "execute_result"
    }
   ],
   "source": [
    "np.median(n)"
   ]
  },
  {
   "cell_type": "code",
   "execution_count": 38,
   "id": "c478901f",
   "metadata": {},
   "outputs": [
    {
     "data": {
      "text/plain": [
       "array([36, 85, 94, 97, 73, 60, 40, 79, 19, 52, 69, 26, 60, 92, 78, 35, 94,\n",
       "        1, 57, 62])"
      ]
     },
     "metadata": {},
     "output_type": "display_data"
    }
   ],
   "source": [
    "n = n.reshape(-1)\n",
    "display(n)"
   ]
  },
  {
   "cell_type": "code",
   "execution_count": 39,
   "id": "457159bc",
   "metadata": {},
   "outputs": [
    {
     "data": {
      "text/plain": [
       "17"
      ]
     },
     "execution_count": 39,
     "metadata": {},
     "output_type": "execute_result"
    }
   ],
   "source": [
    "np.argmin(n)"
   ]
  },
  {
   "cell_type": "code",
   "execution_count": 40,
   "id": "c1627bd1",
   "metadata": {},
   "outputs": [
    {
     "data": {
      "text/plain": [
       "3"
      ]
     },
     "execution_count": 40,
     "metadata": {},
     "output_type": "execute_result"
    }
   ],
   "source": [
    "np.argmax(n)"
   ]
  },
  {
   "cell_type": "code",
   "execution_count": 41,
   "id": "f9c42383",
   "metadata": {},
   "outputs": [
    {
     "data": {
      "text/plain": [
       "26.69920410798794"
      ]
     },
     "execution_count": 41,
     "metadata": {},
     "output_type": "execute_result"
    }
   ],
   "source": [
    "np.std(n)"
   ]
  },
  {
   "cell_type": "code",
   "execution_count": 43,
   "id": "00569509",
   "metadata": {},
   "outputs": [
    {
     "data": {
      "text/plain": [
       "712.8475"
      ]
     },
     "execution_count": 43,
     "metadata": {},
     "output_type": "execute_result"
    }
   ],
   "source": [
    "np.var(n)"
   ]
  },
  {
   "cell_type": "code",
   "execution_count": 44,
   "id": "befb0fbe",
   "metadata": {},
   "outputs": [
    {
     "data": {
      "text/plain": [
       "array([1296, 7225, 8836, 9409, 5329, 3600, 1600, 6241,  361, 2704, 4761,\n",
       "        676, 3600, 8464, 6084, 1225, 8836,    1, 3249, 3844], dtype=int32)"
      ]
     },
     "execution_count": 44,
     "metadata": {},
     "output_type": "execute_result"
    }
   ],
   "source": [
    "np.power(n,2)"
   ]
  },
  {
   "cell_type": "code",
   "execution_count": 51,
   "id": "f4d52e13",
   "metadata": {},
   "outputs": [
    {
     "data": {
      "text/plain": [
       "array([  1,   2,   2,   3,   3,   4,   4, 555, 666,   7,   7,   8, 666,\n",
       "         8,   9])"
      ]
     },
     "execution_count": 51,
     "metadata": {},
     "output_type": "execute_result"
    }
   ],
   "source": [
    "n = np.array([1,2,2,3,3,4,4,555,666,7,7,8,666,8,9],dtype=int)\n",
    "n"
   ]
  },
  {
   "cell_type": "code",
   "execution_count": 52,
   "id": "1664d5bd",
   "metadata": {},
   "outputs": [
    {
     "data": {
      "text/plain": [
       "8"
      ]
     },
     "metadata": {},
     "output_type": "display_data"
    }
   ],
   "source": [
    "display(np.argmax(n))"
   ]
  },
  {
   "cell_type": "code",
   "execution_count": 53,
   "id": "3887ea6f",
   "metadata": {},
   "outputs": [
    {
     "data": {
      "text/plain": [
       "array([[ 8],\n",
       "       [12]], dtype=int64)"
      ]
     },
     "execution_count": 53,
     "metadata": {},
     "output_type": "execute_result"
    }
   ],
   "source": [
    "np.argwhere(n==np.max(n))"
   ]
  },
  {
   "cell_type": "code",
   "execution_count": 59,
   "id": "143cfa8b",
   "metadata": {},
   "outputs": [
    {
     "data": {
      "text/plain": [
       "array([[ 5, 33, 58,  1, 75],\n",
       "       [ 2, 39, 52, 72, 29],\n",
       "       [59, 53, 83, 79, 32],\n",
       "       [35, 11, 85, 66, 49]])"
      ]
     },
     "execution_count": 59,
     "metadata": {},
     "output_type": "execute_result"
    }
   ],
   "source": [
    "n1 = np.random.randint(0,100,size=(4,5))\n",
    "n1"
   ]
  },
  {
   "cell_type": "code",
   "execution_count": 64,
   "id": "4dc59a9d",
   "metadata": {},
   "outputs": [
    {
     "data": {
      "text/plain": [
       "array([[ 3, 32, 22, 28],\n",
       "       [34, 47, 91, 24],\n",
       "       [ 7, 59, 71,  8],\n",
       "       [11, 69, 80, 12],\n",
       "       [ 0, 99, 80, 51]])"
      ]
     },
     "execution_count": 64,
     "metadata": {},
     "output_type": "execute_result"
    }
   ],
   "source": [
    "n2 = np.random.randint(0,100,size=(5,4))\n",
    "n2"
   ]
  },
  {
   "cell_type": "code",
   "execution_count": 61,
   "id": "be7a4d38",
   "metadata": {},
   "outputs": [
    {
     "data": {
      "text/plain": [
       "array([[ 45,  83, 100,  56,  82],\n",
       "       [ 85, 105, 109,  87,  39],\n",
       "       [147, 106,  91, 115,  45],\n",
       "       [104,  51, 136, 113, 135]])"
      ]
     },
     "execution_count": 61,
     "metadata": {},
     "output_type": "execute_result"
    }
   ],
   "source": [
    "n1+n2"
   ]
  },
  {
   "cell_type": "code",
   "execution_count": 65,
   "id": "90fab0a2",
   "metadata": {},
   "outputs": [
    {
     "data": {
      "text/plain": [
       "array([[ 1554, 12627, 13311,  5233],\n",
       "       [ 2488, 12804, 15365,  3751],\n",
       "       [ 3429, 17895, 20894,  6168],\n",
       "       [ 1800, 16057, 17006,  5215]])"
      ]
     },
     "execution_count": 65,
     "metadata": {},
     "output_type": "execute_result"
    }
   ],
   "source": [
    "np.dot(n1, n2)\n",
    "n1 @ n2"
   ]
  },
  {
   "cell_type": "code",
   "execution_count": 68,
   "id": "6052b1cb",
   "metadata": {},
   "outputs": [
    {
     "ename": "SyntaxError",
     "evalue": "invalid syntax (3324923087.py, line 4)",
     "output_type": "error",
     "traceback": [
      "\u001b[1;36m  Input \u001b[1;32mIn [68]\u001b[1;36m\u001b[0m\n\u001b[1;33m    with open(r'\"C:\\Users\\13343\\Desktop\\手把手教你学NumPy-课件.md\", 'r', encoding='utf-8') as file:\u001b[0m\n\u001b[1;37m                                                                           ^\u001b[0m\n\u001b[1;31mSyntaxError\u001b[0m\u001b[1;31m:\u001b[0m invalid syntax\n"
     ]
    }
   ],
   "source": [
    "# NumPy练习题\n"
   ]
  },
  {
   "cell_type": "code",
   "execution_count": 1,
   "id": "19132f83",
   "metadata": {},
   "outputs": [],
   "source": [
    "import numpy as np"
   ]
  },
  {
   "cell_type": "code",
   "execution_count": 6,
   "id": "a12d64d8",
   "metadata": {},
   "outputs": [],
   "source": [
    "# 1、创建一个长度为10的一维全为0的ndarray对象，然后让第五个元素等于1"
   ]
  },
  {
   "cell_type": "code",
   "execution_count": 8,
   "id": "86ced379",
   "metadata": {},
   "outputs": [
    {
     "data": {
      "text/plain": [
       "array([0, 0, 0, 0, 1, 0, 0, 0, 0, 0])"
      ]
     },
     "execution_count": 8,
     "metadata": {},
     "output_type": "execute_result"
    }
   ],
   "source": [
    "n = np.zeros(10,dtype=int)\n",
    "n[4]=1\n",
    "n"
   ]
  },
  {
   "cell_type": "code",
   "execution_count": 19,
   "id": "690af956",
   "metadata": {},
   "outputs": [
    {
     "data": {
      "text/plain": [
       "array([10, 11, 12, 13, 14, 15, 16, 17, 18, 19, 20, 21, 22, 23, 24, 25, 26,\n",
       "       27, 28, 29, 30, 31, 32, 33, 34, 35, 36, 37, 38, 39, 40, 41, 42, 43,\n",
       "       44, 45, 46, 47, 48, 49])"
      ]
     },
     "execution_count": 19,
     "metadata": {},
     "output_type": "execute_result"
    }
   ],
   "source": [
    "n = np.arange(10,50)\n",
    "n"
   ]
  },
  {
   "cell_type": "code",
   "execution_count": 20,
   "id": "8e182826",
   "metadata": {},
   "outputs": [
    {
     "data": {
      "text/plain": [
       "array([49, 48, 47, 46, 45, 44, 43, 42, 41, 40, 39, 38, 37, 36, 35, 34, 33,\n",
       "       32, 31, 30, 29, 28, 27, 26, 25, 24, 23, 22, 21, 20, 19, 18, 17, 16,\n",
       "       15, 14, 13, 12, 11, 10])"
      ]
     },
     "execution_count": 20,
     "metadata": {},
     "output_type": "execute_result"
    }
   ],
   "source": [
    "n[::-1]"
   ]
  },
  {
   "cell_type": "code",
   "execution_count": 22,
   "id": "8167824c",
   "metadata": {},
   "outputs": [
    {
     "data": {
      "text/plain": [
       "array([[ 2, 32, 43, 79, 98, 95, 14, 79, 27, 64],\n",
       "       [74, 40, 52, 92, 11, 64, 96,  9, 31, 16],\n",
       "       [89, 89, 82, 73, 68,  2, 12, 23, 60, 62],\n",
       "       [ 1, 91, 48, 29, 62, 97, 54, 50, 82, 77],\n",
       "       [20, 77, 37, 59, 76, 91,  5, 69, 18, 62],\n",
       "       [35, 49, 58, 69, 78,  2, 29, 93, 16, 46],\n",
       "       [70, 56, 69, 74, 11, 99, 18, 46, 21, 79],\n",
       "       [29,  7, 64, 85, 49, 45, 40, 18, 83, 57],\n",
       "       [69, 72,  7,  6, 10,  2, 40, 48, 57,  2],\n",
       "       [81,  2, 87, 33, 20, 71, 15, 51, 50, 17]])"
      ]
     },
     "execution_count": 22,
     "metadata": {},
     "output_type": "execute_result"
    }
   ],
   "source": [
    "n = np.random.randint(0,100,size=(10,10))\n",
    "n"
   ]
  },
  {
   "cell_type": "code",
   "execution_count": 27,
   "id": "26d3858c",
   "metadata": {},
   "outputs": [
    {
     "name": "stdout",
     "output_type": "stream",
     "text": [
      "65\n",
      "99\n"
     ]
    }
   ],
   "source": [
    "print(np.argmax(n))\n",
    "print(np.max(n))"
   ]
  },
  {
   "cell_type": "code",
   "execution_count": 28,
   "id": "2ad633fd",
   "metadata": {},
   "outputs": [
    {
     "data": {
      "text/plain": [
       "30"
      ]
     },
     "metadata": {},
     "output_type": "display_data"
    },
    {
     "data": {
      "text/plain": [
       "1"
      ]
     },
     "metadata": {},
     "output_type": "display_data"
    }
   ],
   "source": [
    "a = np.argmin(n)\n",
    "b = np.min(n)\n",
    "display(a,b)"
   ]
  },
  {
   "cell_type": "code",
   "execution_count": 32,
   "id": "0cbae338",
   "metadata": {},
   "outputs": [
    {
     "data": {
      "text/plain": [
       "array([[0, 0, 0, 0, 0, 0, 0, 0, 0, 0],\n",
       "       [0, 0, 0, 0, 0, 0, 0, 0, 0, 0],\n",
       "       [0, 0, 0, 0, 0, 0, 0, 0, 0, 0],\n",
       "       [0, 0, 0, 0, 0, 0, 0, 0, 0, 0],\n",
       "       [0, 0, 0, 0, 0, 0, 0, 0, 0, 0],\n",
       "       [0, 0, 0, 0, 0, 0, 0, 0, 0, 0],\n",
       "       [0, 0, 0, 0, 0, 0, 0, 0, 0, 0],\n",
       "       [0, 0, 0, 0, 0, 0, 0, 0, 0, 0],\n",
       "       [0, 0, 0, 0, 0, 0, 0, 0, 0, 0],\n",
       "       [0, 0, 0, 0, 0, 0, 0, 0, 0, 0]])"
      ]
     },
     "execution_count": 32,
     "metadata": {},
     "output_type": "execute_result"
    }
   ],
   "source": [
    "n = np.zeros((10,10),dtype=int)\n",
    "n"
   ]
  },
  {
   "cell_type": "code",
   "execution_count": 41,
   "id": "b23cb362",
   "metadata": {},
   "outputs": [
    {
     "data": {
      "text/plain": [
       "array([[1, 1, 1, 1, 1, 1, 1, 1, 1, 1],\n",
       "       [1, 0, 0, 0, 0, 0, 0, 0, 0, 1],\n",
       "       [1, 0, 0, 0, 0, 0, 0, 0, 0, 1],\n",
       "       [1, 0, 0, 0, 0, 0, 0, 0, 0, 1],\n",
       "       [1, 0, 0, 0, 0, 0, 0, 0, 0, 1],\n",
       "       [1, 0, 0, 0, 0, 0, 0, 0, 0, 1],\n",
       "       [1, 0, 0, 0, 0, 0, 0, 0, 0, 1],\n",
       "       [1, 0, 0, 0, 0, 0, 0, 0, 0, 1],\n",
       "       [1, 0, 0, 0, 0, 0, 0, 0, 0, 1],\n",
       "       [1, 1, 1, 1, 1, 1, 1, 1, 1, 1]])"
      ]
     },
     "execution_count": 41,
     "metadata": {},
     "output_type": "execute_result"
    }
   ],
   "source": [
    "n[0]=1\n",
    "n[9]=1\n",
    "n[:,0]=1\n",
    "n[:,-1]=1\n",
    "n"
   ]
  },
  {
   "cell_type": "code",
   "execution_count": 43,
   "id": "65c4e8dc",
   "metadata": {
    "scrolled": true
   },
   "outputs": [
    {
     "data": {
      "text/plain": [
       "array([[1, 1, 1, 1, 1, 1, 1, 1, 1, 1],\n",
       "       [1, 0, 0, 0, 0, 0, 0, 0, 0, 1],\n",
       "       [1, 0, 0, 0, 0, 0, 0, 0, 0, 1],\n",
       "       [1, 0, 0, 0, 0, 0, 0, 0, 0, 1],\n",
       "       [1, 0, 0, 0, 0, 0, 0, 0, 0, 1],\n",
       "       [1, 0, 0, 0, 0, 0, 0, 0, 0, 1],\n",
       "       [1, 0, 0, 0, 0, 0, 0, 0, 0, 1],\n",
       "       [1, 0, 0, 0, 0, 0, 0, 0, 0, 1],\n",
       "       [1, 0, 0, 0, 0, 0, 0, 0, 0, 1],\n",
       "       [1, 1, 1, 1, 1, 1, 1, 1, 1, 1]])"
      ]
     },
     "execution_count": 43,
     "metadata": {},
     "output_type": "execute_result"
    }
   ],
   "source": [
    "#优化代码\n",
    "n[[0,-1]]=1\n",
    "n[:,[0,-1]]\n",
    "n"
   ]
  },
  {
   "cell_type": "code",
   "execution_count": 69,
   "id": "51cde6cb",
   "metadata": {},
   "outputs": [
    {
     "data": {
      "text/plain": [
       "array([[0, 1, 2, 3, 4],\n",
       "       [0, 1, 2, 3, 4],\n",
       "       [0, 1, 2, 3, 4],\n",
       "       [0, 1, 2, 3, 4],\n",
       "       [0, 1, 2, 3, 4]])"
      ]
     },
     "execution_count": 69,
     "metadata": {},
     "output_type": "execute_result"
    }
   ],
   "source": [
    "l = [0,1,2,3,4]\n",
    "n = np.array(l*5).reshape(5,5)\n",
    "n"
   ]
  },
  {
   "cell_type": "code",
   "execution_count": 51,
   "id": "def2990e",
   "metadata": {},
   "outputs": [
    {
     "data": {
      "text/plain": [
       "array([0.        , 0.09090909, 0.18181818, 0.27272727, 0.36363636,\n",
       "       0.45454545, 0.54545455, 0.63636364, 0.72727273, 0.81818182,\n",
       "       0.90909091, 1.        ])"
      ]
     },
     "execution_count": 51,
     "metadata": {},
     "output_type": "execute_result"
    }
   ],
   "source": [
    "n = np.linspace(0,1,12)\n",
    "n"
   ]
  },
  {
   "cell_type": "code",
   "execution_count": 55,
   "id": "1d74058e",
   "metadata": {},
   "outputs": [
    {
     "data": {
      "text/plain": [
       "array([0.35735899, 0.02377152, 0.33413333, 0.07202369, 0.85641909,\n",
       "       0.90925351, 0.68934467, 0.39568044, 0.07437448, 0.81363591])"
      ]
     },
     "metadata": {},
     "output_type": "display_data"
    },
    {
     "data": {
      "text/plain": [
       "array([0.02377152, 0.07202369, 0.07437448, 0.33413333, 0.35735899,\n",
       "       0.39568044, 0.68934467, 0.81363591, 0.85641909, 0.90925351])"
      ]
     },
     "metadata": {},
     "output_type": "display_data"
    }
   ],
   "source": [
    "n = np.random.random(10)\n",
    "display(n,np.sort(n))"
   ]
  },
  {
   "cell_type": "code",
   "execution_count": 56,
   "id": "431731b6",
   "metadata": {},
   "outputs": [
    {
     "data": {
      "text/plain": [
       "array([0.35735899, 0.02377152, 0.33413333, 0.07202369, 0.85641909,\n",
       "       0.90925351, 0.68934467, 0.39568044, 0.07437448, 0.81363591])"
      ]
     },
     "execution_count": 56,
     "metadata": {},
     "output_type": "execute_result"
    }
   ],
   "source": [
    "n"
   ]
  },
  {
   "cell_type": "code",
   "execution_count": 58,
   "id": "81bc2cff",
   "metadata": {},
   "outputs": [
    {
     "data": {
      "text/plain": [
       "array([0.02377152, 0.07202369, 0.07437448, 0.33413333, 0.35735899,\n",
       "       0.39568044, 0.68934467, 0.81363591, 0.85641909, 0.        ])"
      ]
     },
     "execution_count": 58,
     "metadata": {},
     "output_type": "execute_result"
    }
   ],
   "source": [
    "n1 = np.sort(n)\n",
    "n1[-1]=0\n",
    "n1"
   ]
  },
  {
   "cell_type": "code",
   "execution_count": 72,
   "id": "75af58e1",
   "metadata": {},
   "outputs": [
    {
     "data": {
      "text/plain": [
       "array([1, 4, 0, 8, 8, 3, 1, 5, 8, 4])"
      ]
     },
     "execution_count": 72,
     "metadata": {},
     "output_type": "execute_result"
    }
   ],
   "source": [
    "n = np.random.randint(0,10,size=10)\n",
    "n"
   ]
  },
  {
   "cell_type": "code",
   "execution_count": 73,
   "id": "e9d23b29",
   "metadata": {},
   "outputs": [
    {
     "data": {
      "text/plain": [
       "8"
      ]
     },
     "execution_count": 73,
     "metadata": {},
     "output_type": "execute_result"
    }
   ],
   "source": [
    "maxn = np.max(n)\n",
    "maxn"
   ]
  },
  {
   "cell_type": "code",
   "execution_count": 77,
   "id": "ea19b017",
   "metadata": {},
   "outputs": [
    {
     "data": {
      "text/plain": [
       "array([3, 4, 8], dtype=int64)"
      ]
     },
     "execution_count": 77,
     "metadata": {},
     "output_type": "execute_result"
    }
   ],
   "source": [
    "max_index = np.argwhere(n==maxn).reshape(-1)\n",
    "max_index"
   ]
  },
  {
   "cell_type": "code",
   "execution_count": 81,
   "id": "f61fa167",
   "metadata": {},
   "outputs": [
    {
     "data": {
      "text/plain": [
       "array([1, 4, 0, 0, 0, 3, 1, 5, 0, 4])"
      ]
     },
     "execution_count": 81,
     "metadata": {},
     "output_type": "execute_result"
    }
   ],
   "source": [
    "n[max_index]=0\n",
    "n"
   ]
  },
  {
   "cell_type": "code",
   "execution_count": 82,
   "id": "321359e3",
   "metadata": {},
   "outputs": [
    {
     "data": {
      "text/plain": [
       "array([[[[9, 1, 4, 6, 7],\n",
       "         [3, 6, 0, 2, 6],\n",
       "         [6, 1, 9, 5, 1],\n",
       "         [5, 0, 9, 2, 0]],\n",
       "\n",
       "        [[8, 4, 8, 7, 5],\n",
       "         [9, 7, 4, 5, 8],\n",
       "         [5, 1, 1, 5, 2],\n",
       "         [4, 2, 9, 2, 7]],\n",
       "\n",
       "        [[0, 3, 4, 4, 4],\n",
       "         [3, 3, 1, 1, 8],\n",
       "         [8, 6, 0, 3, 9],\n",
       "         [1, 0, 8, 1, 9]]],\n",
       "\n",
       "\n",
       "       [[[2, 0, 4, 8, 7],\n",
       "         [2, 9, 4, 2, 7],\n",
       "         [4, 9, 2, 0, 8],\n",
       "         [6, 9, 7, 3, 3]],\n",
       "\n",
       "        [[7, 2, 6, 4, 6],\n",
       "         [6, 6, 9, 1, 9],\n",
       "         [7, 7, 8, 8, 1],\n",
       "         [0, 2, 3, 6, 3]],\n",
       "\n",
       "        [[1, 9, 1, 4, 6],\n",
       "         [3, 7, 3, 7, 4],\n",
       "         [7, 7, 4, 5, 3],\n",
       "         [3, 8, 7, 6, 1]]]])"
      ]
     },
     "execution_count": 82,
     "metadata": {},
     "output_type": "execute_result"
    }
   ],
   "source": [
    "n = np.random.randint(0,10,size=(2,3,4,5))\n",
    "n"
   ]
  },
  {
   "cell_type": "code",
   "execution_count": 83,
   "id": "0cf8b033",
   "metadata": {},
   "outputs": [
    {
     "data": {
      "text/plain": [
       "array([[ 82, 103,  76],\n",
       "       [ 96, 101,  96]])"
      ]
     },
     "execution_count": 83,
     "metadata": {},
     "output_type": "execute_result"
    }
   ],
   "source": [
    "sum = n.sum(axis=(2,3))\n",
    "sum\n"
   ]
  },
  {
   "cell_type": "code",
   "execution_count": null,
   "id": "855bfd44",
   "metadata": {},
   "outputs": [],
   "source": [
    "n1 = np.random.randint(0,10,size=(5,3))\n",
    "n2 = np.random.randint(0,10,size=(3,2))\n",
    "display(n1,n2,np.dot(n1,n2))"
   ]
  },
  {
   "cell_type": "code",
   "execution_count": 92,
   "id": "5b6bad18",
   "metadata": {},
   "outputs": [
    {
     "data": {
      "text/plain": [
       "array([[8, 5, 2],\n",
       "       [0, 5, 4],\n",
       "       [8, 0, 4]])"
      ]
     },
     "execution_count": 92,
     "metadata": {},
     "output_type": "execute_result"
    }
   ],
   "source": [
    "n = np.random.randint(0,10,size=(3,3))\n",
    "n"
   ]
  },
  {
   "cell_type": "code",
   "execution_count": 113,
   "id": "f86b0c26",
   "metadata": {},
   "outputs": [
    {
     "data": {
      "text/plain": [
       "array([[5.],\n",
       "       [3.],\n",
       "       [4.]])"
      ]
     },
     "execution_count": 113,
     "metadata": {},
     "output_type": "execute_result"
    }
   ],
   "source": [
    "n2 = np.average(n,axis=1)\n",
    "n3 = n2.reshape(3,-1)\n",
    "n3"
   ]
  },
  {
   "cell_type": "code",
   "execution_count": null,
   "id": "5960b0fd",
   "metadata": {},
   "outputs": [],
   "source": [
    "n-n3"
   ]
  }
 ],
 "metadata": {
  "kernelspec": {
   "display_name": "Python 3 (ipykernel)",
   "language": "python",
   "name": "python3"
  },
  "language_info": {
   "codemirror_mode": {
    "name": "ipython",
    "version": 3
   },
   "file_extension": ".py",
   "mimetype": "text/x-python",
   "name": "python",
   "nbconvert_exporter": "python",
   "pygments_lexer": "ipython3",
   "version": "3.9.12"
  }
 },
 "nbformat": 4,
 "nbformat_minor": 5
}
